{
 "cells": [
  {
   "cell_type": "code",
   "execution_count": 1,
   "metadata": {},
   "outputs": [],
   "source": [
    "import pandas as pd\n",
    "import numpy as np\n",
    "import networkx as nx\n",
    "import matplotlib.pyplot as plt\n",
    "import seaborn as sns\n",
    "from numpy import genfromtxt\n",
    "from numpy import linalg as LA\n",
    "import scipy as sp\n",
    "import sympy"
   ]
  },
  {
   "cell_type": "code",
   "execution_count": 70,
   "metadata": {},
   "outputs": [],
   "source": [
    "input_data = pd.read_csv('a6n.csv', index_col=0)\n",
    "G = nx.Graph(input_data.values)"
   ]
  },
  {
   "cell_type": "markdown",
   "metadata": {},
   "source": [
    "### how many driver node we have?"
   ]
  },
  {
   "cell_type": "code",
   "execution_count": 11,
   "metadata": {},
   "outputs": [],
   "source": [
    "def number_of_driver_nodes(G):\n",
    "\n",
    "    N = G.number_of_nodes()\n",
    "    A = (nx.adjacency_matrix(G)).todense()  # get adjacency matrix A of G\n",
    "    all_eigs = LA.eigvals(A)           # get eigenvalues of A\n",
    "   \n",
    "    lambda_i = list(set(np.round(all_eigs,8)))\n",
    "    #lambda_i = list(set(all_eigs))\n",
    "\n",
    "    driver_nodes_num = -1\n",
    "    lambda_m = -1\n",
    "    IN = np.eye(N)\n",
    "    n = len(lambda_i)\n",
    "    miu_lambda =np.zeros(n)\n",
    "\n",
    "    for i in range(0,n):\n",
    "    \n",
    "        miu_lambda[i] = N - LA.matrix_rank(lambda_i[i] * IN - A, tol=1E-6)\n",
    "        if miu_lambda[i] > driver_nodes_num:\n",
    "            driver_nodes_num = miu_lambda[i]\n",
    "            lambda_m = lambda_i[i]\n",
    "\n",
    "\n",
    "    return (driver_nodes_num, lambda_m)\n"
   ]
  },
  {
   "cell_type": "markdown",
   "metadata": {},
   "source": [
    "### Which node is a driver node?"
   ]
  },
  {
   "cell_type": "code",
   "execution_count": 103,
   "metadata": {},
   "outputs": [],
   "source": [
    "def get_driver_nodes(G):\n",
    "    \n",
    "    N = G.number_of_nodes()\n",
    "    A = (nx.adjacency_matrix(G)).todense()  # get adjacency matrix A of G\n",
    "    all_eigs = LA.eigvals(A)           # get eigenvalues of A\n",
    "    \n",
    "    lambda_i = list(set(np.round(all_eigs,8)))\n",
    "    #lambda_i = list(set(all_eigs))\n",
    "\n",
    "    driver_nodes_num = -1\n",
    "    lambda_m = -1\n",
    "    IN = np.eye(N)\n",
    "    n = len(lambda_i)\n",
    "    miu_lambda =np.zeros(n)\n",
    "\n",
    "    for i in range(0,n):\n",
    "    \n",
    "        miu_lambda[i] = N - LA.matrix_rank(lambda_i[i] * IN - A, tol=1E-8)\n",
    "        if miu_lambda[i] > driver_nodes_num:\n",
    "            driver_nodes_num = miu_lambda[i]\n",
    "            lambda_m = lambda_i[i]\n",
    "\n",
    "        \n",
    "    middle_matrix = lambda_m * np.eye(N) - A   # get the middle matrix A - \\lambda * I_N\n",
    "    middle_matrix = np.round(middle_matrix, 8)\n",
    "    reduced_matrix,pivot_array1=sympy.Matrix(middle_matrix).rref()\n",
    "    \n",
    "    reduced_matrix_array = np.array(reduced_matrix).astype(np.float64)\n",
    "    reduced_matrix_array_transpose=np.matrix.transpose(reduced_matrix_array)\n",
    "    _, pivot_array2 = sympy.Matrix(reduced_matrix_array_transpose).T.rref()\n",
    "    all_nodes = G.nodes() \n",
    "    pivot_nodes = [all_nodes[i] for i in pivot_array2]\n",
    "    t=0\n",
    "    N_d = N-len(pivot_array2)\n",
    "    driver_nodes = np.zeros(N_d)\n",
    "    for i in all_nodes:\n",
    "        if i in pivot_array2:\n",
    "            pass\n",
    "        else:\n",
    "            driver_nodes[t] = i\n",
    "            t = t+1\n",
    "           \n",
    "    return (driver_nodes_num, driver_nodes)\n"
   ]
  },
  {
   "cell_type": "markdown",
   "metadata": {},
   "source": [
    "## Example"
   ]
  },
  {
   "cell_type": "code",
   "execution_count": 104,
   "metadata": {},
   "outputs": [],
   "source": [
    "mat = np.array(\n",
    "    [[-1.0, 1.0, 1.0,1.0,1.0,1.0],\n",
    "      [1.0, 0.0, 0.0,0.0,0.0, 0.0],\n",
    "      [1.0, 0.0, 0.0,0.0,0.0 ,0.0], \n",
    "      [1.0, 0.0, 0.0,-1.0,0.0,0.0],\n",
    "      [1.0, 0.0, 0.0,0.0,-1.0,1.0],\n",
    "      [1.0, 0.0, 0.0,0.0,1.0,-1.0]\n",
    "    ])\n",
    "G2 = nx.Graph(mat)"
   ]
  },
  {
   "cell_type": "code",
   "execution_count": 105,
   "metadata": {},
   "outputs": [],
   "source": [
    "input_data = pd.read_csv('Book2.csv', index_col=0)\n",
    "G3 = nx.Graph(input_data.values)"
   ]
  },
  {
   "cell_type": "code",
   "execution_count": 108,
   "metadata": {},
   "outputs": [
    {
     "data": {
      "text/plain": [
       "(2.0, 0.0)"
      ]
     },
     "execution_count": 108,
     "metadata": {},
     "output_type": "execute_result"
    }
   ],
   "source": [
    "number_of_driver_nodes(G3)"
   ]
  },
  {
   "cell_type": "code",
   "execution_count": 109,
   "metadata": {},
   "outputs": [
    {
     "data": {
      "text/plain": [
       "(2.0, array([2., 5.]))"
      ]
     },
     "execution_count": 109,
     "metadata": {},
     "output_type": "execute_result"
    }
   ],
   "source": [
    "get_driver_nodes(G3)"
   ]
  },
  {
   "cell_type": "code",
   "execution_count": null,
   "metadata": {},
   "outputs": [],
   "source": [
    " "
   ]
  },
  {
   "cell_type": "code",
   "execution_count": null,
   "metadata": {},
   "outputs": [],
   "source": []
  }
 ],
 "metadata": {
  "kernelspec": {
   "display_name": "Python 3",
   "language": "python",
   "name": "python3"
  },
  "language_info": {
   "codemirror_mode": {
    "name": "ipython",
    "version": 3
   },
   "file_extension": ".py",
   "mimetype": "text/x-python",
   "name": "python",
   "nbconvert_exporter": "python",
   "pygments_lexer": "ipython3",
   "version": "3.7.4"
  }
 },
 "nbformat": 4,
 "nbformat_minor": 2
}
